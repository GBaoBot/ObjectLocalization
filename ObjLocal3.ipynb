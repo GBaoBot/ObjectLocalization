{
  "nbformat": 4,
  "nbformat_minor": 0,
  "metadata": {
    "colab": {
      "provenance": [],
      "gpuType": "T4"
    },
    "kernelspec": {
      "name": "python3",
      "display_name": "Python 3"
    },
    "language_info": {
      "name": "python"
    },
    "accelerator": "GPU"
  },
  "cells": [
    {
      "cell_type": "code",
      "execution_count": 1,
      "metadata": {
        "id": "-fJa1BrVwtbT"
      },
      "outputs": [],
      "source": [
        "import tensorflow as tf\n",
        "from tensorflow.keras.applications import VGG16\n",
        "from tensorflow.keras.layers import Flatten, Dense\n",
        "from tensorflow.keras.models import Model\n",
        "from tensorflow.keras.optimizers import Adam, SGD\n",
        "from tensorflow.keras.preprocessing import image\n",
        "\n",
        "import matplotlib.pyplot as plt\n",
        "import numpy as np"
      ]
    },
    {
      "cell_type": "code",
      "source": [
        "# path = '/home/notomo/Documents/VSC/Models/ObjectLocalization/charmander-tight.png'\n",
        "path = '/content/charmander-tight.png'\n",
        "ch = image.load_img(path)\n",
        "ch = ch.convert(\"RGB\")\n",
        "POKE_DIM = 200\n",
        "ch = np.array(ch)\n",
        "plt.imshow(ch)\n",
        "CH_H, CH_W, CH_C = ch.shape\n",
        "\n",
        "print(f'Height of the object image: {CH_H}')\n",
        "print(f'Width of the object image:  {CH_W}')"
      ],
      "metadata": {
        "colab": {
          "base_uri": "https://localhost:8080/",
          "height": 468
        },
        "id": "qcNf2O_c0IzS",
        "outputId": "e63dd420-095e-4833-83e1-af8ccbbb5592"
      },
      "execution_count": 4,
      "outputs": [
        {
          "output_type": "stream",
          "name": "stdout",
          "text": [
            "Height of the object image: 56\n",
            "Width of the object image:  44\n"
          ]
        },
        {
          "output_type": "display_data",
          "data": {
            "text/plain": [
              "<Figure size 640x480 with 1 Axes>"
            ],
            "image/png": "[encoded data removed]"
          },
          "metadata": {}
        }
      ]
    },
    {
      "cell_type": "code",
      "source": [
        "def make_model():\n",
        "    vgg = VGG16(input_shape= [POKE_DIM, POKE_DIM, 3],\n",
        "                include_top=False,\n",
        "                weights='imagenet')\n",
        "\n",
        "    x = Flatten()(vgg.output)\n",
        "    x = Dense(units=4, activation='sigmoid')(x) # 4 neurons corresponding to: x_topleft, y_topleft, height, width\n",
        "    model = Model(vgg.input, x)\n",
        "    model.compile(loss='binary_crossentropy', optimizer=Adam(lr=0.0001))\n",
        "\n",
        "    return model"
      ],
      "metadata": {
        "id": "oCbNZ5zR0KQt"
      },
      "execution_count": 5,
      "outputs": []
    },
    {
      "cell_type": "code",
      "source": [
        "from skimage.transform import resize\n",
        "\n",
        "def pokemon_generator_with_resize(batch_size=64):\n",
        "    while True:\n",
        "        for _ in range(50): # number of batches in each epoch is just random (I chose 50)\n",
        "            # Generate X - (batch_size, H, W, 3)\n",
        "            # Generate y  - (batch_size, 4)\n",
        "            X = np.zeros(shape=(batch_size, POKE_DIM, POKE_DIM, 3))\n",
        "            y = np.zeros(shape=(batch_size, 4)) # x_top_right, y_top_right, height, width\n",
        "\n",
        "            for i in range(batch_size):\n",
        "                scale = np.random.random() + 0.5\n",
        "                new_height, new_width = int(CH_H * scale), int(CH_W * scale)\n",
        "                obj = resize(ch, (new_height, new_width),\n",
        "                             preserve_range=True).astype(np.uint8)\n",
        "\n",
        "                x0 = np.random.randint(0, POKE_DIM - new_width)\n",
        "                y0 = np.random.randint(0, POKE_DIM - new_height)\n",
        "                x1 = x0 + new_width\n",
        "                y1 = y0 + new_height\n",
        "\n",
        "                X[i, y0:y1, x0:x1, :] = obj[:, :, :3]\n",
        "                y[i, 0] = x0 / POKE_DIM\n",
        "                y[i, 1] = y0 / POKE_DIM\n",
        "                y[i, 2] = (y1-y0) / POKE_DIM\n",
        "                y[i, 3] = (x1-x0) / POKE_DIM\n",
        "\n",
        "            yield X / 255., y"
      ],
      "metadata": {
        "id": "GoDUZaNK0LIp"
      },
      "execution_count": 6,
      "outputs": []
    },
    {
      "cell_type": "code",
      "source": [
        "model = make_model()\n",
        "model.fit_generator(\n",
        "    pokemon_generator_with_resize(),\n",
        "    steps_per_epoch=50,\n",
        "    epochs=5\n",
        ")"
      ],
      "metadata": {
        "colab": {
          "base_uri": "https://localhost:8080/"
        },
        "id": "-BcK-Tz20Maz",
        "outputId": "115f2ed9-c14b-4e55-8187-5f9f091faecd"
      },
      "execution_count": 7,
      "outputs": [
        {
          "output_type": "stream",
          "name": "stdout",
          "text": [
            "Downloading data from https://storage.googleapis.com/tensorflow/keras-applications/vgg16/vgg16_weights_tf_dim_ordering_tf_kernels_notop.h5\n",
            "58889256/58889256 [==============================] - 4s 0us/step\n"
          ]
        },
        {
          "output_type": "stream",
          "name": "stderr",
          "text": [
            "WARNING:absl:`lr` is deprecated in Keras optimizer, please use `learning_rate` or use the legacy optimizer, e.g.,tf.keras.optimizers.legacy.Adam.\n",
            "<ipython-input-7-67ade3f1c554>:2: UserWarning: `Model.fit_generator` is deprecated and will be removed in a future version. Please use `Model.fit`, which supports generators.\n",
            "  model.fit_generator(\n"
          ]
        },
        {
          "output_type": "stream",
          "name": "stdout",
          "text": [
            "Epoch 1/5\n",
            "50/50 [==============================] - 68s 629ms/step - loss: 0.7224\n",
            "Epoch 2/5\n",
            "50/50 [==============================] - 32s 634ms/step - loss: 0.5527\n",
            "Epoch 3/5\n",
            "50/50 [==============================] - 31s 628ms/step - loss: 0.5482\n",
            "Epoch 4/5\n",
            "50/50 [==============================] - 32s 631ms/step - loss: 0.5443\n",
            "Epoch 5/5\n",
            "50/50 [==============================] - 31s 630ms/step - loss: 0.5441\n"
          ]
        },
        {
          "output_type": "execute_result",
          "data": {
            "text/plain": [
              "<keras.src.callbacks.History at 0x7840b4f0d840>"
            ]
          },
          "metadata": {},
          "execution_count": 7
        }
      ]
    },
    {
      "cell_type": "code",
      "source": [
        "from matplotlib.patches import Rectangle\n",
        "\n",
        "# Function to make prediction, everytime want to test the model, just run this function\n",
        "def pokemon_predict():\n",
        "    X = np.zeros(shape=(POKE_DIM, POKE_DIM, 3))\n",
        "    y = np.zeros(shape=(4)) # x_top_right, y_top_right, height, width\n",
        "\n",
        "    scale = np.random.random() + 0.5\n",
        "    new_height, new_width = int(CH_H * scale), int(CH_W * scale)\n",
        "    obj = resize(ch,\n",
        "                 (new_height, new_width),\n",
        "                 preserve_range=True).astype(np.uint8)\n",
        "    x0 = np.random.randint(0, POKE_DIM - new_width)\n",
        "    y0 = np.random.randint(0, POKE_DIM - new_height)\n",
        "    x1 = x0 + new_width\n",
        "    y1 = y0 + new_height\n",
        "\n",
        "    X[y0:y1, x0:x1, :] = obj[:,:,:3]\n",
        "    y[0] = x0 / POKE_DIM\n",
        "    y[1] = y0 / POKE_DIM\n",
        "    y[2] = (y1 - y0) / POKE_DIM\n",
        "    y[3] = (x1 - x0) / POKE_DIM\n",
        "\n",
        "    X = np.expand_dims(X, axis=0) / 255.\n",
        "    y = np.expand_dims(y, axis=0)\n",
        "    prediction = model.predict(X)[0]\n",
        "    prediction = prediction * POKE_DIM\n",
        "\n",
        "    row0 = int(prediction[0])\n",
        "    col0 = int(prediction[1])\n",
        "    row1 = int(row0 + prediction[2])\n",
        "    col1 = int(col0 + prediction[3])\n",
        "    print(\"pred:\", row0, col0, row1, col1)\n",
        "    print(\"loss:\", -np.mean(y * np.log(prediction / POKE_DIM) + (1 - y)*np.log(1-prediction / POKE_DIM)))\n",
        "\n",
        "    rect = Rectangle((prediction[0], prediction[1]),\n",
        "                     height=prediction[2], width=prediction[3],\n",
        "                     edgecolor='r',\n",
        "                     linewidth=3,\n",
        "                     facecolor='none')\n",
        "    fig, ax = plt.subplots()\n",
        "    ax.axis('off')\n",
        "    ax.imshow(X[0])\n",
        "    ax.add_patch(rect)\n",
        "\n",
        "    plt.show()\n",
        "\n",
        "\n",
        "# Run function\n",
        "pokemon_predict()"
      ],
      "metadata": {
        "colab": {
          "base_uri": "https://localhost:8080/",
          "height": 460
        },
        "id": "HPPB_zun0N8-",
        "outputId": "f4d32fe3-9478-4e5b-a538-1403d0d9e934"
      },
      "execution_count": 26,
      "outputs": [
        {
          "output_type": "stream",
          "name": "stdout",
          "text": [
            "1/1 [==============================] - 0s 20ms/step\n",
            "pred: 86 91 164 148\n",
            "loss: 0.6607615727931262\n"
          ]
        },
        {
          "output_type": "display_data",
          "data": {
            "text/plain": [
              "<Figure size 640x480 with 1 Axes>"
            ],
            "image/png": "[encoded data removed]"
          },
          "metadata": {}
        }
      ]
    },
    {
      "cell_type": "code",
      "source": [],
      "metadata": {
        "id": "agrlK3tE1ew9"
      },
      "execution_count": null,
      "outputs": []
    }
  ]
}